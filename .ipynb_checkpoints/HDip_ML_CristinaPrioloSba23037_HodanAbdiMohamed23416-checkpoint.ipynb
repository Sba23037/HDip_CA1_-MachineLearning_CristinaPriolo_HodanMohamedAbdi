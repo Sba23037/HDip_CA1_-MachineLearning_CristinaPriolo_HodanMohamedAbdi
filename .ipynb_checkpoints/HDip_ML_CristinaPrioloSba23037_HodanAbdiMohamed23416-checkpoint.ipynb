{
 "cells": [
  {
   "cell_type": "code",
   "execution_count": 2,
   "id": "f4c36354",
   "metadata": {},
   "outputs": [],
   "source": [
    "import pandas as pd\n",
    "%matplotlib inline\n",
    "import numpy as np\n",
    "import matplotlib.pyplot as plt\n",
    "import seaborn as sns\n",
    "sns.set()"
   ]
  },
  {
   "cell_type": "code",
   "execution_count": 3,
   "id": "8d8acb7e",
   "metadata": {},
   "outputs": [
    {
     "name": "stderr",
     "output_type": "stream",
     "text": [
      "C:\\Users\\hodanabdi\\AppData\\Local\\Temp\\ipykernel_3848\\1360493495.py:1: DtypeWarning: Columns (1,18) have mixed types. Specify dtype option on import or set low_memory=False.\n",
      "  dataset= pd.read_csv(\"Crime.csv\")\n"
     ]
    }
   ],
   "source": [
    "dataset= pd.read_csv(\"Crime.csv\")"
   ]
  },
  {
   "cell_type": "code",
   "execution_count": 4,
   "id": "465bc179",
   "metadata": {},
   "outputs": [
    {
     "data": {
      "text/plain": [
       "(225690, 30)"
      ]
     },
     "execution_count": 4,
     "metadata": {},
     "output_type": "execute_result"
    }
   ],
   "source": [
    "dataset.shape"
   ]
  },
  {
   "cell_type": "code",
   "execution_count": 5,
   "id": "90e61521",
   "metadata": {},
   "outputs": [
    {
     "name": "stdout",
     "output_type": "stream",
     "text": [
      "<class 'pandas.core.frame.DataFrame'>\n",
      "RangeIndex: 225690 entries, 0 to 225689\n",
      "Data columns (total 30 columns):\n",
      " #   Column                  Non-Null Count   Dtype  \n",
      "---  ------                  --------------   -----  \n",
      " 0   Incident ID             225690 non-null  int64  \n",
      " 1   Offence Code            225690 non-null  object \n",
      " 2   CR Number               225690 non-null  int64  \n",
      " 3   Dispatch Date / Time    156891 non-null  object \n",
      " 4   NIBRS Code              225690 non-null  object \n",
      " 5   Victims                 225690 non-null  int64  \n",
      " 6   Crime Name1             225549 non-null  object \n",
      " 7   Crime Name2             225549 non-null  object \n",
      " 8   Crime Name3             225549 non-null  object \n",
      " 9   Police District Name    225690 non-null  object \n",
      " 10  Block Address           205188 non-null  object \n",
      " 11  City                    224633 non-null  object \n",
      " 12  State                   225690 non-null  object \n",
      " 13  Zip Code                222503 non-null  float64\n",
      " 14  Agency                  225690 non-null  object \n",
      " 15  Place                   225690 non-null  object \n",
      " 16  Sector                  225631 non-null  object \n",
      " 17  Beat                    225631 non-null  object \n",
      " 18  PRA                     225649 non-null  object \n",
      " 19  Address Number          205262 non-null  float64\n",
      " 20  Street Prefix           9949 non-null    object \n",
      " 21  Street Name             225690 non-null  object \n",
      " 22  Street Suffix           4243 non-null    object \n",
      " 23  Street Type             225376 non-null  object \n",
      " 24  Start_Date_Time         225690 non-null  object \n",
      " 25  End_Date_Time           109038 non-null  object \n",
      " 26  Latitude                225690 non-null  float64\n",
      " 27  Longitude               225690 non-null  float64\n",
      " 28  Police District Number  225690 non-null  object \n",
      " 29  Location                225690 non-null  object \n",
      "dtypes: float64(4), int64(3), object(23)\n",
      "memory usage: 51.7+ MB\n"
     ]
    }
   ],
   "source": [
    "dataset.info()"
   ]
  },
  {
   "cell_type": "code",
   "execution_count": null,
   "id": "816b051d",
   "metadata": {},
   "outputs": [],
   "source": []
  }
 ],
 "metadata": {
  "kernelspec": {
   "display_name": "Python 3 (ipykernel)",
   "language": "python",
   "name": "python3"
  },
  "language_info": {
   "codemirror_mode": {
    "name": "ipython",
    "version": 3
   },
   "file_extension": ".py",
   "mimetype": "text/x-python",
   "name": "python",
   "nbconvert_exporter": "python",
   "pygments_lexer": "ipython3",
   "version": "3.11.4"
  }
 },
 "nbformat": 4,
 "nbformat_minor": 5
}
